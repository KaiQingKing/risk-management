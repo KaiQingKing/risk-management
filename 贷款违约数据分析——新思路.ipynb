{
 "cells": [
  {
   "cell_type": "code",
   "execution_count": 32,
   "id": "f56706c9",
   "metadata": {},
   "outputs": [],
   "source": [
    "#常规模块\n",
    "import pandas as pd\n",
    "import numpy as np\n",
    "import matplotlib.pyplot as plt\n",
    "#特征工程\n",
    "from sklearn.feature_selection import SelectKBest, chi2\n",
    "import datetime\n",
    "#模型\n",
    "from sklearn.linear_model import LogisticRegression\n",
    "from sklearn.model_selection import cross_val_score\n",
    "\n",
    "#读取数据\n",
    "train=pd.read_csv(r'C:\\Users\\ASUS\\Desktop\\天池数据\\train.csv')\n",
    "testA=pd.read_csv(r'C:\\Users\\ASUS\\Desktop\\天池数据\\testA.csv')"
   ]
  },
  {
   "cell_type": "code",
   "execution_count": 33,
   "id": "8bb46754",
   "metadata": {},
   "outputs": [],
   "source": [
    "#查看特征属性唯一特征，考虑剔除--->policyCode\n",
    "one_values_feature = []\n",
    "for i in list(train.columns):\n",
    "    if train[i].nunique() <= 1:\n",
    "        one_values_feature.append(i)\n",
    "for data in [train,testA]:\n",
    "    data.drop(one_values_feature,axis=1,inplace=True)\n",
    "\n",
    "#删除与也不不符合的数据（dti<0）\n",
    "train.drop(list(train[train['dti']<0].index),axis=0,inplace=True)"
   ]
  },
  {
   "cell_type": "code",
   "execution_count": 34,
   "id": "5ac9c8e9",
   "metadata": {},
   "outputs": [],
   "source": [
    "#object特征数值化\n",
    "#需要数值化的特征有grade，subGrade，employmentLength，issueDate，earliesCreditLine\n",
    "#grade处理\n",
    "for data in [train, testA]:\n",
    "    data['grade'] = data['grade'].map({'A':1,'B':2,'C':3,'D':4,'E':5,'F':6,'G':7})\n",
    "#subGrade处理\n",
    "for data in [train, testA]:\n",
    "    data['subGrade'] = data['subGrade'].map({'A1':1,'A2':2,'A3':3,'A4':4,'A5':5,'B1':6,'B2':7,'B3':8,'B4':9,'B5':10,'C1':11,'C2':12,'C3':13,'C4':14,'C5':15,'D1':16,'D2':17,'D3':18,'D4':19,'D5':20,'E1':21,'E2':22,'E3':23,'E4':24,'E5':25,'F1':26,'F2':27,'F3':28,'F4':29,'F5':30,'G1':31,'G2':32,'G3':33,'G4':34,'G5':35})"
   ]
  },
  {
   "cell_type": "code",
   "execution_count": 35,
   "id": "904512d9",
   "metadata": {},
   "outputs": [],
   "source": [
    "#issueDate处理\n",
    "for data in [train, testA]:\n",
    "    data['issueDate_year'] = data.issueDate.apply(lambda x: int(x.split('-')[0]))\n",
    "    data['issueDate_month'] = data.issueDate.apply(lambda x: int(x.split('-')[1]))\n",
    "    data['issueDate_day'] = data.issueDate.apply(lambda x: int(x.split('-')[2]))\n",
    "    data.drop(['issueDate'], axis=1, inplace=True)"
   ]
  },
  {
   "cell_type": "code",
   "execution_count": 36,
   "id": "1657c27b",
   "metadata": {},
   "outputs": [],
   "source": [
    "#employmentLength处理\n",
    "enc_list = {'< 1 year': 0, '1 year': 1, '2 years': 2, '3 years': 3, '4 years': 4, '5 years': 5,\n",
    "           '6 years': 6, '7 years': 7, '8 years': 8, '9 years': 9, '10+ years': 10}\n",
    "for data in [train, testA]:\n",
    "    data['employmentLength'] = data['employmentLength'].map(enc_list)"
   ]
  },
  {
   "cell_type": "code",
   "execution_count": 37,
   "id": "22c3201a",
   "metadata": {},
   "outputs": [],
   "source": [
    "#earliesCreditLine处理\n",
    "month_dict = {'Aug': 8, 'May': 5, 'Jul': 7, 'Oct': 10, 'Dec': 12, 'Apr': 4, 'Jan': 1, 'Nov': 11, 'Feb': 2,\n",
    "                  'Mar': 3, 'Jun': 6, 'Sep': 9}\n",
    "for data in [train, testA]:\n",
    "    data['earliesCreditLine_year'] = data['earliesCreditLine'].apply(lambda x: int(x.split('-')[1]))\n",
    "    data['earliesCreditLine_month'] = data['earliesCreditLine'].apply(lambda x: x.split('-')[0]).map(month_dict)\n",
    "    data.drop(['earliesCreditLine'], axis=1, inplace=True)"
   ]
  },
  {
   "cell_type": "code",
   "execution_count": 38,
   "id": "33addeed",
   "metadata": {},
   "outputs": [],
   "source": [
    "#划分分类特征和数值特征\n",
    "cate_features=['term','grade','subGrade','employmentTitle','employmentLength','homeOwnership','verificationStatus','purpose','postCode','regionCode','initialListStatus','applicationType','title','issueDate_year','issueDate_month','issueDate_day','earliesCreditLine_year','earliesCreditLine_month','delinquency_2years','ficoRangeLow','ficoRangeHigh','openAcc','pubRec','pubRecBankruptcies','revolBal','revolUtil','totalAcc']\n",
    "num_features=['loanAmnt','interestRate','installment','annualIncome','dti']"
   ]
  },
  {
   "cell_type": "code",
   "execution_count": 39,
   "id": "0ce9490d",
   "metadata": {},
   "outputs": [],
   "source": [
    "#填充缺失值\n",
    "#按照平均数填充特征\n",
    "for data in [train, testA]:\n",
    "    data[num_features] = data[num_features].fillna(data[num_features].mean())\n",
    "    data[cate_features] = data[cate_features].fillna(train[cate_features].mean())\n",
    "#匿名变量缺失值填充\n",
    "n_features = ['n0', 'n1', 'n2', 'n3','n4', 'n5', 'n6', 'n7', 'n8', 'n9', 'n10', 'n11', 'n12', 'n13', 'n14']\n",
    "for data in [train, testA]:\n",
    "    data[n_features] = data[n_features].fillna(train[n_features].mean())"
   ]
  },
  {
   "cell_type": "code",
   "execution_count": 40,
   "id": "36f6aa72",
   "metadata": {},
   "outputs": [],
   "source": [
    "#构建业务特征\n",
    "for data in [train, testA]:\n",
    "    data['avg_income'] = data['annualIncome'] / data['employmentLength']\n",
    "    data['money_total'] = data['annualIncome'] * data['employmentLength']\n",
    "    data['total_income'] = data['annualIncome'] * data['employmentLength']\n",
    "    data['avg_loanAmnt'] = data['loanAmnt'] / data['term']\n",
    "    data['all_installment'] = data['installment'] * data['term']\n",
    "    data['rest_money_rate'] = data['avg_loanAmnt'] / (data['annualIncome'] + 0.1)\n",
    "    data['rest_money'] = data['annualIncome'] - data['avg_loanAmnt']\n",
    "    data['closeAcc'] = data['totalAcc'] - data['openAcc']\n",
    "    data['ficoRange_mean'] = (data['ficoRangeHigh'] + data['ficoRangeLow']) / 2\n",
    "    data['rest_pubRec'] = data['pubRec'] - data['pubRecBankruptcies']\n",
    "    data['rest_Revol'] = data['loanAmnt'] - data['revolBal']\n",
    "    data['dis_time'] = data['issueDate_year'] - data['earliesCreditLine_year']\n",
    "    data['openAcc_totalAcc_rate'] = data['openAcc'] / data['totalAcc']\n",
    "    data['end_year'] = data['issueDate_year'] + data['term']\n",
    "    data['installment_term_revolBal'] = data['installment']*12*data['term']/(data['revolBal']+0.1)\n",
    "    data['revolUtil_revolBal'] = data['revolUtil']/(data['revolBal']+0.1)\n",
    "    data['openAcc_totalAcc'] = data['openAcc']/data['totalAcc']\n",
    "    data['revolBal_loanAmnt'] = data['revolBal']/(data['loanAmnt']+0.1)\n",
    "    data['revolBal_installment'] = data['revolBal']/(data['installment']+0.1)\n",
    "    data['annualIncome_installment'] = data['annualIncome']/(data['installment']+0.1)"
   ]
  },
  {
   "cell_type": "code",
   "execution_count": 41,
   "id": "0a27b4ce",
   "metadata": {},
   "outputs": [],
   "source": [
    "#删除共线特征\n",
    "for data in [train, testA]:\n",
    "    data.drop(['ficoRangeHigh','ficoRangeLow','n3','avg_loanAmnt','all_installment','money_total','total_income','rest_money','revolBal_installment'],axis=1,inplace=True)\n",
    "#删除无用特征\n",
    "for data in [train, testA]:\n",
    "    data.drop(['issueDate_day'],axis=1,inplace=True)"
   ]
  },
  {
   "cell_type": "code",
   "execution_count": 42,
   "id": "61ec5002",
   "metadata": {},
   "outputs": [
    {
     "name": "stdout",
     "output_type": "stream",
     "text": [
      "0:\ttest: 0.6969935\tbest: 0.6969935 (0)\ttotal: 743ms\tremaining: 24m 46s\n",
      "500:\ttest: 0.7350227\tbest: 0.7350227 (500)\ttotal: 6m 8s\tremaining: 18m 23s\n",
      "1000:\ttest: 0.7368359\tbest: 0.7368359 (1000)\ttotal: 14m\tremaining: 13m 58s\n",
      "1500:\ttest: 0.7376338\tbest: 0.7376399 (1487)\ttotal: 25m 40s\tremaining: 8m 31s\n",
      "Stopped by overfitting detector  (20 iterations wait)\n",
      "\n",
      "bestTest = 0.7376436588\n",
      "bestIteration = 1518\n",
      "\n",
      "Shrink model to first 1519 iterations.\n"
     ]
    },
    {
     "data": {
      "text/plain": [
       "array([[0.92218754, 0.07781246],\n",
       "       [0.70241511, 0.29758489],\n",
       "       [0.42030277, 0.57969723],\n",
       "       ...,\n",
       "       [0.83506997, 0.16493003],\n",
       "       [0.74873852, 0.25126148],\n",
       "       [0.97314548, 0.02685452]])"
      ]
     },
     "execution_count": 42,
     "metadata": {},
     "output_type": "execute_result"
    }
   ],
   "source": [
    "#建模评估\n",
    "x=train.drop(['id','isDefault'],axis=1)\n",
    "y=train['isDefault']\n",
    "testA_=testA.drop(['id'],axis=1)\n",
    "\n",
    "from catboost import CatBoostClassifier, Pool\n",
    "from sklearn.model_selection import train_test_split\n",
    "\n",
    "model_cat_feature=['verificationStatus','purpose','regionCode','initialListStatus','applicationType','term','homeOwnership','earliesCreditLine_year']\n",
    "model=CatBoostClassifier(loss_function='Logloss',\n",
    "                        eval_metric='AUC',\n",
    "                        learning_rate=0.05,\n",
    "                        iterations=2000,\n",
    "                        random_seed=2021,\n",
    "                        od_type='Iter',\n",
    "                        depth=6,\n",
    "                        silent=True)\n",
    "\n",
    "x_train,x_test,y_train,y_test=train_test_split(x,y,test_size=0.3,random_state=2021)\n",
    "clf=model.fit(x_train,y_train,eval_set=(x_test,y_test),verbose=500,cat_features=model_cat_feature)\n",
    "result=clf.predict_proba(testA_)\n",
    "result"
   ]
  },
  {
   "cell_type": "code",
   "execution_count": 31,
   "id": "a42348ea",
   "metadata": {},
   "outputs": [],
   "source": [
    "result=pd.DataFrame(list(zip(testA['id'],pd.Series(result[:,1]))),columns=['id','isDefault'])\n",
    "result.to_csv(r'C:\\Users\\ASUS\\Desktop\\天池数据\\result1011.csv',index=False)"
   ]
  },
  {
   "cell_type": "code",
   "execution_count": null,
   "id": "f3cabfcc",
   "metadata": {},
   "outputs": [],
   "source": []
  },
  {
   "cell_type": "code",
   "execution_count": null,
   "id": "93436d1f",
   "metadata": {},
   "outputs": [],
   "source": []
  },
  {
   "cell_type": "code",
   "execution_count": null,
   "id": "d6a99b24",
   "metadata": {},
   "outputs": [],
   "source": []
  },
  {
   "cell_type": "code",
   "execution_count": null,
   "id": "e5f18efb",
   "metadata": {},
   "outputs": [],
   "source": []
  }
 ],
 "metadata": {
  "kernelspec": {
   "display_name": "Python 3",
   "language": "python",
   "name": "python3"
  },
  "language_info": {
   "codemirror_mode": {
    "name": "ipython",
    "version": 3
   },
   "file_extension": ".py",
   "mimetype": "text/x-python",
   "name": "python",
   "nbconvert_exporter": "python",
   "pygments_lexer": "ipython3",
   "version": "3.8.8"
  }
 },
 "nbformat": 4,
 "nbformat_minor": 5
}
